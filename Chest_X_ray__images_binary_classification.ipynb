{
  "nbformat": 4,
  "nbformat_minor": 0,
  "metadata": {
    "colab": {
      "name": "Chest_X-ray _images_binary_classification.ipynb",
      "private_outputs": true,
      "provenance": [],
      "authorship_tag": "ABX9TyMxOLL5uQC+/VOcapj6qrbH",
      "include_colab_link": true
    },
    "kernelspec": {
      "name": "python3",
      "display_name": "Python 3"
    },
    "language_info": {
      "name": "python"
    }
  },
  "cells": [
    {
      "cell_type": "markdown",
      "metadata": {
        "id": "view-in-github",
        "colab_type": "text"
      },
      "source": [
        "<a href=\"https://colab.research.google.com/github/hyesukim1/chest_X_ray_images_binary_classification/blob/main/Chest_X_ray__images_binary_classification.ipynb\" target=\"_parent\"><img src=\"https://colab.research.google.com/assets/colab-badge.svg\" alt=\"Open In Colab\"/></a>"
      ]
    },
    {
      "cell_type": "markdown",
      "source": [
        "# Kaggle API로 연결하여 데이터 로드"
      ],
      "metadata": {
        "id": "VXp-Vj5xou7S"
      }
    },
    {
      "cell_type": "code",
      "execution_count": null,
      "metadata": {
        "id": "xlNJyd54oA9-"
      },
      "outputs": [],
      "source": [
        "!pip install kaggle\n",
        "from google.colab import files\n",
        "files.upload()\n",
        "# ls -1ha kaggle.json\n",
        "\n",
        "# json file 이동시키기\n",
        "!mkdir -p ~/.kaggle\n",
        "!cp kaggle.json ~/.kaggle/\n",
        "\n",
        "# permission warning 방지\n",
        "!chmod 600 ~/.kaggle/kaggle.json"
      ]
    },
    {
      "cell_type": "code",
      "source": [
        "!kaggle datasets download -d paultimothymooney/chest-xray-pneumonia"
      ],
      "metadata": {
        "id": "eGCNuAyWo_-H"
      },
      "execution_count": null,
      "outputs": []
    },
    {
      "cell_type": "code",
      "source": [
        "!ls"
      ],
      "metadata": {
        "id": "5wYvAX3dpNHN"
      },
      "execution_count": null,
      "outputs": []
    },
    {
      "cell_type": "code",
      "source": [
        "# zip 파일 풀기\n",
        "!unzip -qq \"/content/chest-xray-pneumonia.zip\""
      ],
      "metadata": {
        "id": "i66sx3TepSgI"
      },
      "execution_count": null,
      "outputs": []
    },
    {
      "cell_type": "markdown",
      "source": [
        "---"
      ],
      "metadata": {
        "id": "jFDBsFgrq12g"
      }
    },
    {
      "cell_type": "markdown",
      "source": [
        "# 프로젝트 설명"
      ],
      "metadata": {
        "id": "iUspE0FMq4ST"
      }
    },
    {
      "cell_type": "code",
      "source": [
        "# 데이터 경로\n",
        "data_path = '/content/chest_xray/'\n",
        "\n",
        "# 훈련, 검증, 테스트 데이터 경로 설정\n",
        "train_path = data_path + 'train/'\n",
        "valid_path = data_path + 'val/'\n",
        "test_path = data_path + 'test/'"
      ],
      "metadata": {
        "id": "lmPi13qPqJO8"
      },
      "execution_count": null,
      "outputs": []
    },
    {
      "cell_type": "code",
      "source": [
        "from glob import glob # 파일들의 리스트를 뽑을 때 사용\n",
        "\n",
        "print(f'num of train data: {len(glob(train_path + \"*/*\"))}')\n",
        "print(f'num of val data: {len(glob(valid_path + \"*/*\"))}')\n",
        "print(f'num of test data: {len(glob(test_path + \"*/*\"))}')"
      ],
      "metadata": {
        "id": "Rzy70n_Sq63B"
      },
      "execution_count": null,
      "outputs": []
    },
    {
      "cell_type": "code",
      "source": [
        "all_normal_imgs = []\n",
        "all_pneumonia_imgs = []\n",
        "\n",
        "for categories in ['train/', 'val/', 'test/']:\n",
        "  data_category_path = data_path + categories\n",
        "  normal_imgs = glob(data_category_path + 'NORMAL/*')\n",
        "  pneumonia_imgs = glob(data_category_path + 'PNEUMONIA/*')\n",
        "\n",
        "  all_normal_imgs.extend(normal_imgs)\n",
        "  all_pneumonia_imgs.extend(pneumonia_imgs)\n",
        "\n",
        "print(f'정상 흉부 이미지 개수 : {len(all_normal_imgs)}')\n",
        "print(f'폐렴 흉부 이미지 개수 : {len(all_pneumonia_imgs)}')"
      ],
      "metadata": {
        "id": "EA7mEO7buEmF"
      },
      "execution_count": null,
      "outputs": []
    },
    {
      "cell_type": "markdown",
      "source": [
        "# 데이터 시각화"
      ],
      "metadata": {
        "id": "p3lS5AEWddxq"
      }
    },
    {
      "cell_type": "code",
      "source": [
        "import matplotlib as mpl\n",
        "import matplotlib.pyplot as plt\n",
        "%matplotlib inline\n",
        "\n",
        "mpl.rc('font', size=15)\n",
        "plt.figure(figsize=(7,7))\n",
        "\n",
        "label = ['Normal', 'Pneumonia']\n",
        "\n",
        "plt.pie([len(all_normal_imgs), len(all_pneumonia_imgs)],\n",
        "        labels = label,\n",
        "        autopct = '%.f%%')"
      ],
      "metadata": {
        "id": "7XQKPrMGdUCk"
      },
      "execution_count": null,
      "outputs": []
    },
    {
      "cell_type": "code",
      "source": [
        "import matplotlib.gridspec as gridspec\n",
        "import cv2\n",
        "\n",
        "def show_image(img_paths, rows=2, cols=3):\n",
        "  assert len(img_paths) <= rows*cols\n",
        "\n",
        "  mpl.rc('font', size=8)\n",
        "  plt.figure(figsize=(15, 8))\n",
        "  grid = gridspec.GridSpec(rows, cols)\n",
        "\n",
        "  for idx, img_path in enumerate(img_paths):\n",
        "    image = cv2.imread(img_path)\n",
        "    ax = plt.subplot(grid[idx])\n",
        "    ax.imshow(image)"
      ],
      "metadata": {
        "id": "1DXZK0-6eeS3"
      },
      "execution_count": null,
      "outputs": []
    },
    {
      "cell_type": "code",
      "source": [
        "num_of_imgs = 6\n",
        "normal_img_paths = all_normal_imgs[-num_of_imgs:]\n",
        "\n",
        "show_image(normal_img_paths)"
      ],
      "metadata": {
        "id": "YHPUTmUKi9l3"
      },
      "execution_count": null,
      "outputs": []
    },
    {
      "cell_type": "code",
      "source": [
        "pneumonia_img_paths = all_pneumonia_imgs[-num_of_imgs:]\n",
        "show_image(pneumonia_img_paths)"
      ],
      "metadata": {
        "id": "JOkDZpjljJ7x"
      },
      "execution_count": null,
      "outputs": []
    },
    {
      "cell_type": "markdown",
      "source": [
        "# 베이스라인 모델"
      ],
      "metadata": {
        "id": "VyYO-2aem98h"
      }
    },
    {
      "cell_type": "code",
      "source": [
        "import torch\n",
        "import random\n",
        "import numpy as np\n",
        "import os\n",
        "\n",
        "# 시드값 고정\n",
        "seed = 50\n",
        "os.environ['PYTHONHASHSEED'] = str(seed)\n",
        "random.seed(seed)\n",
        "np.random.seed(seed)\n",
        "torch.manual_seed(seed)\n",
        "torch.cuda.manual_seed(seed)\n",
        "torch.cuda.manual_seed_all(seed)\n",
        "torch.backends.cudnn.deterministic = True\n",
        "torch.backends.cudnn.benchmark = False\n",
        "torch.backends.cudnn.enabled = False"
      ],
      "metadata": {
        "id": "Yt1U2oO0m9vZ"
      },
      "execution_count": null,
      "outputs": []
    },
    {
      "cell_type": "code",
      "source": [
        "device = torch.device('cuda' if torch.cuda.is_available() else 'cpu')"
      ],
      "metadata": {
        "id": "PZd9H-Iej1E7"
      },
      "execution_count": null,
      "outputs": []
    },
    {
      "cell_type": "code",
      "source": [
        "# 데이터 경로\n",
        "data_path = '/content/chest_xray/'\n",
        "\n",
        "# 훈련, 검증, 테스트 데이터 경로 설정\n",
        "train_path = data_path + 'train/'\n",
        "valid_path = data_path + 'val/'\n",
        "test_path = data_path + 'test/'"
      ],
      "metadata": {
        "id": "45JFm_IOoRJg"
      },
      "execution_count": null,
      "outputs": []
    },
    {
      "cell_type": "code",
      "source": [
        "from torchvision import transforms\n",
        "\n",
        "# 훈련 데이터 이미지 변환\n",
        "transform_train = transforms.Compose([\n",
        "                                      transforms.Resize((250, 250)), # 이미지 크기 조정\n",
        "                                      transforms.CenterCrop(180), # 중앙 이미지 확대\n",
        "                                      transforms.RandomHorizontalFlip(0.5), # 좌우 대칭\n",
        "                                      transforms.RandomVerticalFlip(0.2), # 상하대칭\n",
        "                                      transforms.RandomRotation(20), # 이미지 회전\n",
        "                                      transforms.ToTensor(), # 텐서 객체로 변환\n",
        "                                      transforms.Normalize((0.485, 0.456, 0.406),\n",
        "                                                           (0.229, 0.224, 0.225))])\n",
        "\n",
        "# 테스트 데이터 이미지 변환\n",
        "transform_test = transforms.Compose([\n",
        "                                    transforms.Resize((250, 250)),\n",
        "                                    transforms.CenterCrop(180),\n",
        "                                    transforms.ToTensor(),\n",
        "                                    transforms.Normalize((0.485, 0.456, 0.406),\n",
        "                                                         (0.229, 0.224, 0.225))\n",
        "])"
      ],
      "metadata": {
        "id": "4223_yDOosiC"
      },
      "execution_count": null,
      "outputs": []
    },
    {
      "cell_type": "code",
      "source": [
        "from torchvision.datasets import ImageFolder\n",
        "\n",
        "# 훈련 데이터셋\n",
        "datasets_train = ImageFolder(root=train_path, transform=transform_train)\n",
        "datasets_valid = ImageFolder(root=valid_path, transform=transform_test)"
      ],
      "metadata": {
        "id": "WNdPJsZ9s5rI"
      },
      "execution_count": null,
      "outputs": []
    },
    {
      "cell_type": "code",
      "source": [
        "def seed_worker(worker_id):\n",
        "  worker_seed = torch.initial_seed() % 2**32\n",
        "  np.random.seed(worker_seed)\n",
        "  random.seed(worker_seed)\n",
        "\n",
        "# 제너레이터 시드값 고정\n",
        "g = torch.Generator()\n",
        "g.manual_seed(0)"
      ],
      "metadata": {
        "id": "eNByMzK-tuq9"
      },
      "execution_count": null,
      "outputs": []
    },
    {
      "cell_type": "code",
      "source": [
        "from torch.utils.data import DataLoader\n",
        "\n",
        "batch_size = 8\n",
        "\n",
        "loader_train = DataLoader(dataset=datasets_train, batch_size=batch_size,\n",
        "                          shuffle=True, worker_init_fn=seed_worker,\n",
        "                          generator=g, num_workers=2)\n",
        "\n",
        "loader_valid = DataLoader(dataset=datasets_valid, batch_size=batch_size,\n",
        "                          shuffle=False, worker_init_fn=seed_worker,\n",
        "                          generator=g, num_workers=2)"
      ],
      "metadata": {
        "id": "CfNkjiG4v44Q"
      },
      "execution_count": null,
      "outputs": []
    },
    {
      "cell_type": "code",
      "source": [
        "!pip install efficientnet-pytorch==0.7.1"
      ],
      "metadata": {
        "id": "Z1JjHfzoxCJy"
      },
      "execution_count": null,
      "outputs": []
    },
    {
      "cell_type": "code",
      "source": [
        "# 모델 생성\n",
        "from efficientnet_pytorch import EfficientNet\n",
        "\n",
        "model = EfficientNet.from_pretrained('efficientnet-b0', num_classes=2)\n",
        "model = model.to(device)"
      ],
      "metadata": {
        "id": "aH4uWhYUw3xP"
      },
      "execution_count": null,
      "outputs": []
    },
    {
      "cell_type": "code",
      "source": [
        "print('모델 파라미터 수 : ', sum(param.numel() for param in model.parameters()))"
      ],
      "metadata": {
        "id": "N1p13eDfxmKB"
      },
      "execution_count": null,
      "outputs": []
    },
    {
      "cell_type": "code",
      "source": [
        "import torch.nn as nn\n",
        "\n",
        "criterion = nn.CrossEntropyLoss()\n",
        "optimizer = torch.optim.Adam(model.parameters(), lr=0.01)"
      ],
      "metadata": {
        "id": "TJjL9an7x9Qw"
      },
      "execution_count": null,
      "outputs": []
    },
    {
      "cell_type": "code",
      "source": [
        ""
      ],
      "metadata": {
        "id": "1WnzBosuyeYa"
      },
      "execution_count": null,
      "outputs": []
    }
  ]
}