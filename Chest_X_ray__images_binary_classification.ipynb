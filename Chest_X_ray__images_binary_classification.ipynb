{
  "nbformat": 4,
  "nbformat_minor": 0,
  "metadata": {
    "colab": {
      "name": "Chest_X-ray _images_binary_classification.ipynb",
      "private_outputs": true,
      "provenance": [],
      "authorship_tag": "ABX9TyMXjA1lrCAKYdHZwcQJ7E6d",
      "include_colab_link": true
    },
    "kernelspec": {
      "name": "python3",
      "display_name": "Python 3"
    },
    "language_info": {
      "name": "python"
    }
  },
  "cells": [
    {
      "cell_type": "markdown",
      "metadata": {
        "id": "view-in-github",
        "colab_type": "text"
      },
      "source": [
        "<a href=\"https://colab.research.google.com/github/hyesukim1/chest_X_ray_images_binary_classification/blob/main/Chest_X_ray__images_binary_classification.ipynb\" target=\"_parent\"><img src=\"https://colab.research.google.com/assets/colab-badge.svg\" alt=\"Open In Colab\"/></a>"
      ]
    },
    {
      "cell_type": "markdown",
      "source": [
        "# Kaggle API로 연결하여 데이터 로드"
      ],
      "metadata": {
        "id": "VXp-Vj5xou7S"
      }
    },
    {
      "cell_type": "code",
      "execution_count": null,
      "metadata": {
        "id": "xlNJyd54oA9-"
      },
      "outputs": [],
      "source": [
        "!pip install kaggle\n",
        "from google.colab import files\n",
        "files.upload()\n",
        "# ls -1ha kaggle.json\n",
        "\n",
        "# json file 이동시키기\n",
        "!mkdir -p ~/.kaggle1\n",
        "!cp kaggle.json ~/.kaggle/\n",
        "\n",
        "# permission warning 방지\n",
        "!chmod 600 ~/.kaggle/kaggle.json"
      ]
    },
    {
      "cell_type": "code",
      "source": [
        "!kaggle datasets download -d paultimothymooney/chest-xray-pneumonia"
      ],
      "metadata": {
        "id": "eGCNuAyWo_-H"
      },
      "execution_count": null,
      "outputs": []
    },
    {
      "cell_type": "code",
      "source": [
        "!ls"
      ],
      "metadata": {
        "id": "5wYvAX3dpNHN"
      },
      "execution_count": null,
      "outputs": []
    },
    {
      "cell_type": "code",
      "source": [
        "# zip 파일 풀기\n",
        "!unzip -qq \"/content/chest-xray-pneumonia.zip\""
      ],
      "metadata": {
        "id": "i66sx3TepSgI"
      },
      "execution_count": null,
      "outputs": []
    },
    {
      "cell_type": "markdown",
      "source": [
        "---"
      ],
      "metadata": {
        "id": "jFDBsFgrq12g"
      }
    },
    {
      "cell_type": "markdown",
      "source": [
        "# 프로젝트 설명"
      ],
      "metadata": {
        "id": "iUspE0FMq4ST"
      }
    },
    {
      "cell_type": "code",
      "source": [
        "# 데이터 경로\n",
        "data_path = '/content/chest_xray/'\n",
        "\n",
        "# 훈련, 검증, 테스트 데이터 경로 설정\n",
        "train_path = data_path + 'train/'\n",
        "valid_path = data_path + 'val/'\n",
        "test_path = data_path + 'test/'"
      ],
      "metadata": {
        "id": "lmPi13qPqJO8"
      },
      "execution_count": null,
      "outputs": []
    },
    {
      "cell_type": "code",
      "source": [
        "from glob import glob # 파일들의 리스트를 뽑을 때 사용\n",
        "\n",
        "print(f'num of train data: {len(glob(train_path + \"*/*\"))}')\n",
        "print(f'num of val data: {len(glob(valid_path + \"*/*\"))}')\n",
        "print(f'num of test data: {len(glob(test_path + \"*/*\"))}')"
      ],
      "metadata": {
        "id": "Rzy70n_Sq63B"
      },
      "execution_count": null,
      "outputs": []
    },
    {
      "cell_type": "code",
      "source": [
        "all_normal_imgs = []\n",
        "all_pneumonia_imgs = []\n",
        "\n",
        "for categories in ['train/', 'val/', 'test/']:\n",
        "  data_category_path = data_path + categories\n",
        "  normal_imgs = glob(data_category_path + 'NORMAL/*')\n",
        "  pneumonia_imgs = glob(data_category_path + 'PNEUMONIA/*')\n",
        "\n",
        "  all_normal_imgs.extend(normal_imgs)\n",
        "  all_pneumonia_imgs.extend(pneumonia_imgs)\n",
        "\n",
        "print(f'정상 흉부 이미지 개수 : {len(all_normal_imgs)}')\n",
        "print(f'폐렴 흉부 이미지 개수 : {len(all_pneumonia_imgs)}')"
      ],
      "metadata": {
        "id": "EA7mEO7buEmF"
      },
      "execution_count": null,
      "outputs": []
    },
    {
      "cell_type": "markdown",
      "source": [
        "# 데이터 시각화"
      ],
      "metadata": {
        "id": "p3lS5AEWddxq"
      }
    },
    {
      "cell_type": "code",
      "source": [
        "import matplotlib as mpl\n",
        "import matplotlib.pyplot as plt\n",
        "%matplotlib inline\n",
        "\n",
        "mpl.rc('font', size=15)\n",
        "plt.figure(figsize=(7,7))\n",
        "\n",
        "label = ['Normal', 'Pneumonia']\n",
        "\n",
        "plt.pie([len(all_normal_imgs), len(all_pneumonia_imgs)],\n",
        "        labels = label,\n",
        "        autopct = '%.f%%')"
      ],
      "metadata": {
        "id": "7XQKPrMGdUCk"
      },
      "execution_count": null,
      "outputs": []
    },
    {
      "cell_type": "code",
      "source": [
        "import matplotlib.gridspec as gridspec\n",
        "import cv2\n",
        "\n",
        "def show_image(img_paths, rows=2, cols=3):\n",
        "  assert len(img_paths) <= rows*cols\n",
        "\n",
        "  mpl.rc('font', size=8)\n",
        "  plt.figure(figsize=(15, 8))\n",
        "  grid = gridspec.GridSpec(rows, cols)\n",
        "\n",
        "  for idx, img_path in enumerate(img_paths):\n",
        "    image = cv2.imread(img_path)\n",
        "    ax = plt.subplot(grid[idx])\n",
        "    ax.imshow(image)"
      ],
      "metadata": {
        "id": "1DXZK0-6eeS3"
      },
      "execution_count": null,
      "outputs": []
    },
    {
      "cell_type": "code",
      "source": [
        "# 정상 폐 x-ray 이미지 화\n",
        "num_of_imgs = 6\n",
        "normal_img_paths = all_normal_imgs[-num_of_imgs:]\n",
        "\n",
        "show_image(normal_img_paths)"
      ],
      "metadata": {
        "id": "YHPUTmUKi9l3"
      },
      "execution_count": null,
      "outputs": []
    },
    {
      "cell_type": "code",
      "source": [
        "# 폐렴 x-ray 시각화, 뿌연 부분이 많음\n",
        "pneumonia_img_paths = all_pneumonia_imgs[-num_of_imgs:]\n",
        "show_image(pneumonia_img_paths)"
      ],
      "metadata": {
        "id": "JOkDZpjljJ7x"
      },
      "execution_count": null,
      "outputs": []
    },
    {
      "cell_type": "markdown",
      "source": [
        "# 베이스라인 모델"
      ],
      "metadata": {
        "id": "VyYO-2aem98h"
      }
    },
    {
      "cell_type": "code",
      "source": [
        "import torch\n",
        "import random\n",
        "import numpy as np\n",
        "import os\n",
        "\n",
        "# 시드값 고정\n",
        "seed = 50\n",
        "os.environ['PYTHONHASHSEED'] = str(seed)\n",
        "random.seed(seed)\n",
        "np.random.seed(seed)\n",
        "torch.manual_seed(seed)\n",
        "torch.cuda.manual_seed(seed)\n",
        "torch.cuda.manual_seed_all(seed)\n",
        "torch.backends.cudnn.deterministic = True\n",
        "torch.backends.cudnn.benchmark = False\n",
        "torch.backends.cudnn.enabled = False"
      ],
      "metadata": {
        "id": "Yt1U2oO0m9vZ"
      },
      "execution_count": null,
      "outputs": []
    },
    {
      "cell_type": "code",
      "source": [
        "device = torch.device('cuda' if torch.cuda.is_available() else 'cpu')"
      ],
      "metadata": {
        "id": "PZd9H-Iej1E7"
      },
      "execution_count": null,
      "outputs": []
    },
    {
      "cell_type": "code",
      "source": [
        "# 데이터 경로\n",
        "data_path = '/content/chest_xray/'\n",
        "\n",
        "# 훈련, 검증, 테스트 데이터 경로 설정\n",
        "train_path = data_path + 'train/'\n",
        "valid_path = data_path + 'val/'\n",
        "test_path = data_path + 'test/'"
      ],
      "metadata": {
        "id": "45JFm_IOoRJg"
      },
      "execution_count": null,
      "outputs": []
    },
    {
      "cell_type": "code",
      "source": [
        "from torchvision import transforms\n",
        "\n",
        "# 훈련 데이터 이미지 변환\n",
        "transform_train = transforms.Compose([\n",
        "                                      transforms.Resize((250, 250)), # 이미지 크기 조정\n",
        "                                      transforms.CenterCrop(180), # 중앙 이미지 확대\n",
        "                                      transforms.RandomHorizontalFlip(0.5), # 좌우 대칭\n",
        "                                      transforms.RandomVerticalFlip(0.2), # 상하대칭\n",
        "                                      transforms.RandomRotation(20), # 이미지 회전\n",
        "                                      transforms.ToTensor(), # 텐서 객체로 변환\n",
        "                                      transforms.Normalize((0.485, 0.456, 0.406),\n",
        "                                                           (0.229, 0.224, 0.225))])\n",
        "\n",
        "# 테스트 데이터 이미지 변환\n",
        "transform_test = transforms.Compose([\n",
        "                                    transforms.Resize((250, 250)),\n",
        "                                    transforms.CenterCrop(180),\n",
        "                                    transforms.ToTensor(),\n",
        "                                    transforms.Normalize((0.485, 0.456, 0.406),\n",
        "                                                         (0.229, 0.224, 0.225))\n",
        "])"
      ],
      "metadata": {
        "id": "4223_yDOosiC"
      },
      "execution_count": null,
      "outputs": []
    },
    {
      "cell_type": "code",
      "source": [
        "from torchvision.datasets import ImageFolder\n",
        "\n",
        "# 훈련 데이터셋\n",
        "datasets_train = ImageFolder(root=train_path, transform=transform_train)\n",
        "datasets_valid = ImageFolder(root=valid_path, transform=transform_test)"
      ],
      "metadata": {
        "id": "WNdPJsZ9s5rI"
      },
      "execution_count": null,
      "outputs": []
    },
    {
      "cell_type": "code",
      "source": [
        "def seed_worker(worker_id):\n",
        "  worker_seed = torch.initial_seed() % 2**32\n",
        "  np.random.seed(worker_seed)\n",
        "  random.seed(worker_seed)\n",
        "\n",
        "# 제너레이터 시드값 고정\n",
        "g = torch.Generator()\n",
        "g.manual_seed(0)"
      ],
      "metadata": {
        "id": "eNByMzK-tuq9"
      },
      "execution_count": null,
      "outputs": []
    },
    {
      "cell_type": "code",
      "source": [
        "from torch.utils.data import DataLoader\n",
        "\n",
        "batch_size = 8\n",
        "\n",
        "loader_train = DataLoader(dataset=datasets_train, batch_size=batch_size,\n",
        "                          shuffle=True, worker_init_fn=seed_worker,\n",
        "                          generator=g, num_workers=2)\n",
        "\n",
        "loader_valid = DataLoader(dataset=datasets_valid, batch_size=batch_size,\n",
        "                          shuffle=False, worker_init_fn=seed_worker,\n",
        "                          generator=g, num_workers=2)"
      ],
      "metadata": {
        "id": "CfNkjiG4v44Q"
      },
      "execution_count": null,
      "outputs": []
    },
    {
      "cell_type": "markdown",
      "source": [
        "## EfficientNet\n",
        "### rethinking model scaling for convolutional neural networks\n",
        "\n",
        "#### 모델을 크게 만드는 법\n",
        "1. depth를 깊게 만드는 것\n",
        "2. channel width(filter 개수)를 늘리는 것\n",
        "- width가 넓을 수록 미세한 정보가 많이 담아짐\n",
        "3. input image의 해상도를 올리는 것\n",
        "\n",
        "### 모델 키운 단계\n",
        "- STEP 1: ϕ = 1로 고정하고, α,β,γ에 대해서 작게 grid search를 수행한다. 찾은 값은 α=1.2, β=1.1,γ=1.15로 α⋅β2⋅γ2≈2이다.\n",
        "- STEP 2: 이제 α,β,γ를 고정하고 ϕ를 변화시키면서 전체적인 크기를 키운다\n"
      ],
      "metadata": {
        "id": "8vBHTezzK_sg"
      }
    },
    {
      "cell_type": "markdown",
      "source": [
        "EfficientNet -B0 Network\n",
        "![image.png](data:image/png;base64,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)"
      ],
      "metadata": {
        "id": "UAMeTiWkjgA0"
      }
    },
    {
      "cell_type": "code",
      "source": [
        "!pip install efficientnet-pytorch==0.7.1"
      ],
      "metadata": {
        "id": "Z1JjHfzoxCJy"
      },
      "execution_count": null,
      "outputs": []
    },
    {
      "cell_type": "code",
      "source": [
        "# 모델 생성\n",
        "from efficientnet_pytorch import EfficientNet\n",
        "\n",
        "model = EfficientNet.from_pretrained('efficientnet-b0', num_classes=2)\n",
        "model = model.to(device)"
      ],
      "metadata": {
        "id": "aH4uWhYUw3xP"
      },
      "execution_count": null,
      "outputs": []
    },
    {
      "cell_type": "code",
      "source": [
        "print('모델 파라미터 수 : ', sum(param.numel() for param in model.parameters()))"
      ],
      "metadata": {
        "id": "N1p13eDfxmKB"
      },
      "execution_count": null,
      "outputs": []
    },
    {
      "cell_type": "code",
      "source": [
        "import torch.nn as nn\n",
        "\n",
        "# 손실 함수와 옵티마이저 설정\n",
        "criterion = nn.CrossEntropyLoss()\n",
        "optimizer = torch.optim.Adam(model.parameters(), lr=0.01)"
      ],
      "metadata": {
        "id": "TJjL9an7x9Qw"
      },
      "execution_count": null,
      "outputs": []
    },
    {
      "cell_type": "code",
      "source": [
        "from sklearn.metrics import accuracy_score # 정확도 계산 함수\n",
        "from sklearn.metrics import recall_score # 재현율 계산 함수\n",
        "from sklearn.metrics import f1_score # f1 점수 계산 함수\n",
        "from tqdm.notebook import tqdm\n",
        "\n",
        "# train function\n",
        "\n",
        "def train(model, loader_train, loader_valid, criterion, optimizer, scheduler=None, epochs=10, save_file='model_state'):\n",
        "  valid_loss_min = np.inf # 최소 손실값 초기화\n",
        "\n",
        "  for epoch in range(epochs):\n",
        "    print(f'에폭 [{epoch+1}/{epochs}] \\n------------------------')\n",
        "\n",
        "    #############훈련\n",
        "    model.train() # 모델을 훈련 상태로 설정\n",
        "    epoch_train_loss = 0 # 에포크별 손실값 초기화(훈련 데이터용)\n",
        "    # 미니배치 단위로 '반복 횟수'만큼 반복\n",
        "    for images, labels in tqdm(loader_train):\n",
        "      # 이미지. 레이블 데이터 미니배치를 장비에 할당\n",
        "      images = images.to(device)\n",
        "      labels = labels.to(device)\n",
        "\n",
        "      optimizer.zero_grad() # 옵티마이저 내 기울기 초기화\n",
        "      outputs = model(images) # 순전파\n",
        "      loss = criterion(outputs, labels) # 손실값 계산\n",
        "      epoch_train_loss += loss.item()\n",
        "      loss.backward() # 역전파\n",
        "      optimizer.step() # 가중치 갱신\n",
        "      if scheduler != None: # 스케줄러 학습 갱신\n",
        "        scheduler.step()\n",
        "      print(f'\\t훈련 데이터 손실값: {epoch_train_loss/len(loader_train):.4f}')\n",
        "    \n",
        "    #############검증\n",
        "    model.eval() # 모델을 평가 상태로 설정\n",
        "    epoch_valid_loss = 0 # 에포크별 손실값 초기화(검증 데이터 용)\n",
        "    preds_list = [] # 예측값 저장\n",
        "    true_list = [] # 실제값 저장\n",
        "\n",
        "    with torch.no_grad(): # 기울기 계산 비활성화\n",
        "      # 하나의 에포크 만큼의 데이터를 미니배치 단위로 검증\n",
        "      for images, labels in loader_valid:\n",
        "        images = images.to(device)\n",
        "        labels = labels.to(device)\n",
        "\n",
        "        outputs = model(images) # 순전파\n",
        "        loss = criterion(outputs, labels) # 손실값 계산\n",
        "        epoch_valid_loss += loss.item() # 현재 배치에서 손실 추가\n",
        "\n",
        "        # 예측값 및 실제값\n",
        "        preds = torch.max(outputs.cpu(), dim=1)[1].numpy()\n",
        "        true = labels.cpu().numpy()\n",
        "\n",
        "        preds_list.extend(preds)\n",
        "        true_list.extend(true)\n",
        "    \n",
        "    # 현재 에포크의 검증 완료\n",
        "    print(f'\\t 검증 데이터 손실값 : {epoch_valid_loss/len(loader_valid):.4f}')\n",
        "    \n",
        "    # 평가지표 계산\n",
        "    val_accuracy = accuracy_score(true_list, preds_list)\n",
        "    val_recall = recall_score(true_list, preds_list)\n",
        "    val_f1_score = f1_score(true_list, preds_list)\n",
        "    print(f't\\ 정확도 : {val_accuracy:.4f} / 재현율 : {val_recall:.4f} / F1 점수: {val_f1_score:.4f}')\n",
        "\n",
        "    # 현 에포크에서 손실값이 최소 손실값 이하면 모델 가중치 저장\n",
        "    if epoch_valid_loss <= valid_loss_min:\n",
        "      print(f'\\t### 검증 데이터 손실값 삼소 ({valid_loss_min:.4f} --> {epoch_valid_loss:.4f}. 모델 저장')\n",
        "      # 모델 가중치를 파일로 저장\n",
        "      torch.save(model.state_dict(), save_file)\n",
        "      valid_loss_min = epoch_valid_loss # 최소 손실값 갱신\n",
        "    return torch.load(save_file) # 저장한 모델 가중치를 불러와 반환\n"
      ],
      "metadata": {
        "id": "1WnzBosuyeYa"
      },
      "execution_count": null,
      "outputs": []
    },
    {
      "cell_type": "code",
      "source": [
        "# 모델 훈련\n",
        "model_state_dict = train(model=model, \n",
        "                         loader_train = loader_train,\n",
        "                         loader_valid = loader_valid,\n",
        "                         criterion = criterion,\n",
        "                         optimizer = optimizer)"
      ],
      "metadata": {
        "id": "-THF5kUJlCWO"
      },
      "execution_count": null,
      "outputs": []
    },
    {
      "cell_type": "code",
      "source": [
        "# 최적의 가중치 가져오기\n",
        "model.load_state_dict(model_state_dict)"
      ],
      "metadata": {
        "id": "vJklgH7Ll2sL"
      },
      "execution_count": null,
      "outputs": []
    },
    {
      "cell_type": "code",
      "source": [
        "datasets_test = ImageFolder(root=test_path, transform=transform_test)\n",
        "loader_test = DataLoader(dataset= datasets_test, batch_size=batch_size,\n",
        "                         shuffle=False, worker_init_fn=seed_worker,\n",
        "                         generator=g, num_workers=2)"
      ],
      "metadata": {
        "id": "nilZxpTbnASq"
      },
      "execution_count": null,
      "outputs": []
    },
    {
      "cell_type": "code",
      "source": [
        "def predict(model, loader_test, return_true=False):\n",
        "  model.eval()\n",
        "  preds_list = []\n",
        "  true_list = []\n",
        "\n",
        "  with torch.no_grad():\n",
        "    for images, labels in loader_test:\n",
        "      images = images.to(device)\n",
        "      labels = labels.to(device)\n",
        "\n",
        "      outputs = model(images)\n",
        "\n",
        "      preds = torch.max(outputs.cpu(), dim=1)[1].numpy()\n",
        "      true = labels.cpu().numpy()\n",
        "\n",
        "      preds_list.extend(preds)\n",
        "      true_list.extend(true)\n",
        "\n",
        "  if return_true:\n",
        "    return true_list, preds_list\n",
        "  else:\n",
        "    return preds_list"
      ],
      "metadata": {
        "id": "9riTbaMPnoop"
      },
      "execution_count": null,
      "outputs": []
    },
    {
      "cell_type": "code",
      "source": [
        "true_list, preds_list = predict(model=model,\n",
        "                                loader_test = loader_test,\n",
        "                                return_true = True)"
      ],
      "metadata": {
        "id": "Ab3J_ypko3gE"
      },
      "execution_count": null,
      "outputs": []
    },
    {
      "cell_type": "code",
      "source": [
        "print('#'*5, '최종 예측 결과 평가 점수', '#'*5)\n",
        "print(f'정확도: {accuracy_score(true_list, preds_list):.4f}')\n",
        "print(f'재현률: {recall_score(true_list, preds_list):.4f}')\n",
        "print(f'F1 점수: {f1_score(true_list, preds_list):.4f}')"
      ],
      "metadata": {
        "id": "XsY9DC7KpIeZ"
      },
      "execution_count": null,
      "outputs": []
    },
    {
      "cell_type": "markdown",
      "source": [
        "# 모델 성능 개선"
      ],
      "metadata": {
        "id": "kcOItOCpp49j"
      }
    },
    {
      "cell_type": "code",
      "source": [
        "# 모델 3개를 앙상블해서 성능 높이기\n",
        "\n",
        "!pip install efficientnet-pytorch==0.7.1"
      ],
      "metadata": {
        "id": "kfutRpxup6wb"
      },
      "execution_count": null,
      "outputs": []
    },
    {
      "cell_type": "code",
      "source": [
        "models_list = []"
      ],
      "metadata": {
        "id": "kuNGiY5KX4DA"
      },
      "execution_count": null,
      "outputs": []
    },
    {
      "cell_type": "code",
      "source": [
        "from efficientnet_pytorch import EfficientNet\n",
        "\n",
        "# 모델 생성\n",
        "efficientnet_b1 = EfficientNet.from_pretrained('efficientnet-b1', num_classes=2)\n",
        "efficientnet_b2 = EfficientNet.from_pretrained('efficientnet-b2', num_classes=2)\n",
        "efficientnet_b3 = EfficientNet.from_pretrained('efficientnet-b3', num_classes=2)\n",
        "\n",
        "# 장비 할당\n",
        "efficientnet_b1 = efficientnet_b1.to(device)\n",
        "efficientnet_b2 = efficientnet_b2.to(device)\n",
        "efficientnet_b3 = efficientnet_b3.to(device)\n",
        "\n",
        "# 리스트에 모델 저장\n",
        "models_list.append(efficientnet_b1)\n",
        "models_list.append(efficientnet_b2)\n",
        "models_list.append(efficientnet_b3)"
      ],
      "metadata": {
        "id": "c9f8vJV6X_lj"
      },
      "execution_count": null,
      "outputs": []
    },
    {
      "cell_type": "code",
      "source": [
        "for idx, model in enumerate(models_list):\n",
        "  num_params = sum(param.numel() for param in model.parameters())\n",
        "  print(f'모델{idx+1} 파라미터 개수: {num_params}')"
      ],
      "metadata": {
        "id": "Ul5HDmLiZgiT"
      },
      "execution_count": null,
      "outputs": []
    },
    {
      "cell_type": "code",
      "source": [
        "# 손실 함수, 옵티마이저, 스케줄러 설정\n",
        "\n",
        "import torch.nn as nn\n",
        "\n",
        "criterion = nn.CrossEntropyLoss()\n",
        "\n",
        "optimizer1 = torch.optim.AdamW(models_list[0].parameters(), lr=0.0006, weight_decay=0.001)\n",
        "optimizer2 = torch.optim.AdamW(models_list[1].parameters(), lr=0.0006, weight_decay=0.001)\n",
        "optimizer3 = torch.optim.AdamW(models_list[2].parameters(), lr=0.0006, weight_decay=0.001)"
      ],
      "metadata": {
        "id": "tfRBpRaGZ39R"
      },
      "execution_count": null,
      "outputs": []
    },
    {
      "cell_type": "code",
      "source": [
        "!pip install transformers"
      ],
      "metadata": {
        "id": "TvYNWngqfU7b"
      },
      "execution_count": null,
      "outputs": []
    },
    {
      "cell_type": "code",
      "source": [
        "from transformers import get_cosine_schedule_with_warmup\n",
        "\n",
        "epochs = 20\n",
        "\n",
        "# 스케줄러\n",
        "scheduler1 = get_cosine_schedule_with_warmup(optimizer1,\n",
        "                                             num_warmup_steps=len(loader_train)*3,\n",
        "                                             num_training_steps=len(loader_train)*epochs)\n",
        "scheduler2 = get_cosine_schedule_with_warmup(optimizer2,\n",
        "                                             num_warmup_steps=len(loader_train)*3,\n",
        "                                             num_training_steps=len(loader_train)*epochs)\n",
        "scheduler3 = get_cosine_schedule_with_warmup(optimizer3,\n",
        "                                             num_warmup_steps=len(loader_train)*3,\n",
        "                                             num_training_steps=len(loader_train)*epochs)"
      ],
      "metadata": {
        "id": "62muthjYeUtg"
      },
      "execution_count": null,
      "outputs": []
    },
    {
      "cell_type": "markdown",
      "source": [
        "### 모델 훈련 및 성능 검증"
      ],
      "metadata": {
        "id": "YRMF37QbfcvM"
      }
    },
    {
      "cell_type": "code",
      "source": [
        "# 첫 번째 모델 훈련\n",
        "\n",
        "model_state_dict = train(model=models_list[0],\n",
        "                         loader_train = loader_train,\n",
        "                         loader_valid=loader_valid,\n",
        "                         criterion=criterion,\n",
        "                         optimizer=optimizer1,\n",
        "                         scheduler=scheduler1,\n",
        "                         epochs=epochs)\n",
        "\n",
        "models_list[0].load_state_dict(model_state_dict)"
      ],
      "metadata": {
        "id": "s6MPZGPufDRw"
      },
      "execution_count": null,
      "outputs": []
    },
    {
      "cell_type": "code",
      "source": [
        "# 두번째 모델 훈련\n",
        "model_state_dict = train(model=models_list[1],\n",
        "                         loader_train = loader_train,\n",
        "                         loader_valid=loader_valid,\n",
        "                         criterion=criterion,\n",
        "                         optimizer=optimizer2,\n",
        "                         scheduler=scheduler2,\n",
        "                         epochs=epochs)\n",
        "\n",
        "models_list[1].load_state_dict(model_state_dict)"
      ],
      "metadata": {
        "id": "r2OkfW77hBl-"
      },
      "execution_count": null,
      "outputs": []
    },
    {
      "cell_type": "code",
      "source": [
        "# 세번째 모델 훈련\n",
        "model_state_dict = train(model=models_list[2],\n",
        "                         loader_train = loader_train,\n",
        "                         loader_valid=loader_valid,\n",
        "                         criterion=criterion,\n",
        "                         optimizer=optimizer3,\n",
        "                         scheduler=scheduler3,\n",
        "                         epochs=epochs)\n",
        "\n",
        "models_list[2].load_state_dict(model_state_dict)"
      ],
      "metadata": {
        "id": "OZDdcTrGhLtt"
      },
      "execution_count": null,
      "outputs": []
    },
    {
      "cell_type": "markdown",
      "source": [
        "### 예측 및 평가"
      ],
      "metadata": {
        "id": "-4gjqSwbhSM7"
      }
    },
    {
      "cell_type": "code",
      "source": [
        "datasets_test = ImageFolder(root=test_path, transform=transform_test)\n",
        "\n",
        "loader_test = DataLoader(dataset=datasets_test, batch_size=batch_size,\n",
        "                         shuffle=False, worker_init_fn=seed_worker,\n",
        "                         generator=g, num_workers=2)"
      ],
      "metadata": {
        "id": "TMDsxBBchRDQ"
      },
      "execution_count": null,
      "outputs": []
    },
    {
      "cell_type": "markdown",
      "source": [
        "#### 모델별 예측"
      ],
      "metadata": {
        "id": "B2k-rKdzh5gm"
      }
    },
    {
      "cell_type": "code",
      "source": [
        "true_list, preds_list1 = predict(model=models_list[0],\n",
        "                                 loader_test=loader_test,\n",
        "                                 return_true = True)\n",
        "\n",
        "preds_list2 = predict(model=models_list[1],\n",
        "                                 loader_test=loader_test)\n",
        "\n",
        "preds_list3 = predict(model=models_list[2],\n",
        "                                 loader_test=loader_test)"
      ],
      "metadata": {
        "id": "e8tywBDIh0Yg"
      },
      "execution_count": null,
      "outputs": []
    },
    {
      "cell_type": "code",
      "source": [
        "print('efficientnet-b1')\n",
        "print(f'정확도: {accuracy_score(true_list, preds_list1):.4f}')\n",
        "print(f'재현율: {recall_score(true_list, preds_list1):.4f}')\n",
        "print(f'f1-점수: {f1_score(true_list, preds_list1):.4f}')\n",
        "\n",
        "print('efficientnet-b2')\n",
        "print(f'정확도: {accuracy_score(true_list, preds_list2):.4f}')\n",
        "print(f'재현율: {recall_score(true_list, preds_list2):.4f}')\n",
        "print(f'f1-점수: {f1_score(true_list, preds_list2):.4f}')\n",
        "\n",
        "print('efficientnet-b3')\n",
        "print(f'정확도: {accuracy_score(true_list, preds_list3):.4f}')\n",
        "print(f'재현율: {recall_score(true_list, preds_list3):.4f}')\n",
        "print(f'f1-점수: {f1_score(true_list, preds_list3):.4f}')"
      ],
      "metadata": {
        "id": "3wvvYUvWiTzY"
      },
      "execution_count": null,
      "outputs": []
    },
    {
      "cell_type": "markdown",
      "source": [
        "#### 앙상블 예측"
      ],
      "metadata": {
        "id": "YhhIxHSdjKZV"
      }
    },
    {
      "cell_type": "code",
      "source": [
        "ensemble_preds = []\n",
        "\n",
        "for i in range(len(preds_list1)):\n",
        "  pred_element = np.round((preds_list1[i]+preds_list2[i]+preds_list3[i])/3)\n",
        "  ensemble_preds.append(pred_element)"
      ],
      "metadata": {
        "id": "-_d7B_vxjKFA"
      },
      "execution_count": null,
      "outputs": []
    },
    {
      "cell_type": "code",
      "source": [
        "print('앙상블 모델 평가 결과')\n",
        "print(f'정확도: {accuracy_score(true_list,ensemble_preds):.4f}')\n",
        "print(f'재현율: {recall_score(true_list, ensemble_preds):.4f}')\n",
        "print(f'f1-점수: {f1_score(true_list, ensemble_preds):.4f}')"
      ],
      "metadata": {
        "id": "_3XHGhtEjHJB"
      },
      "execution_count": null,
      "outputs": []
    },
    {
      "cell_type": "code",
      "source": [
        ""
      ],
      "metadata": {
        "id": "jtEdUCU88egy"
      },
      "execution_count": null,
      "outputs": []
    }
  ]
}